{
 "cells": [
  {
   "cell_type": "code",
   "execution_count": null,
   "metadata": {},
   "outputs": [],
   "source": [
    "from keras.models import load_model\n",
    "\n",
    "# Load the model from the checkpoint file\n",
    "model = load_model(\"D:\\DIP Project\\Complex-YOLOv4-Pytorch-master\\checkpoints\\complexer_yolo\\Model_complexer_yolo_epoch_5.pth\")\n",
    "\n",
    "# Print the model architecture\n",
    "print(model.summary())\n"
   ]
  }
 ],
 "metadata": {
  "language_info": {
   "name": "python"
  }
 },
 "nbformat": 4,
 "nbformat_minor": 2
}
