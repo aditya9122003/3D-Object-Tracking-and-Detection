{
 "cells": [
  {
   "cell_type": "code",
   "execution_count": 1,
   "metadata": {},
   "outputs": [],
   "source": [
    "from torchsummary import summary"
   ]
  },
  {
   "cell_type": "code",
   "execution_count": 7,
   "metadata": {},
   "outputs": [],
   "source": [
    "from models.darknet2pytorch import Darknet\n",
    "from config.train_config import parse_train_configs"
   ]
  },
  {
   "cell_type": "code",
   "execution_count": 8,
   "metadata": {},
   "outputs": [
    {
     "name": "stderr",
     "output_type": "stream",
     "text": [
      "usage: ipykernel_launcher.py [-h] [--seed SEED] [--saved_fn FN]\n",
      "                             [--working-dir PATH] [-a ARCH] [--cfgfile PATH]\n",
      "                             [--pretrained_path PATH] [--use_giou_loss]\n",
      "                             [--img_size IMG_SIZE] [--hflip_prob HFLIP_PROB]\n",
      "                             [--cutout_prob CUTOUT_PROB]\n",
      "                             [--cutout_nholes CUTOUT_NHOLES]\n",
      "                             [--cutout_ratio CUTOUT_RATIO]\n",
      "                             [--cutout_fill_value CUTOUT_FILL_VALUE]\n",
      "                             [--multiscale_training] [--mosaic]\n",
      "                             [--random-padding] [--no-val]\n",
      "                             [--num_samples NUM_SAMPLES]\n",
      "                             [--num_workers NUM_WORKERS]\n",
      "                             [--batch_size BATCH_SIZE] [--print_freq N]\n",
      "                             [--tensorboard_freq N] [--checkpoint_freq N]\n",
      "                             [--start_epoch N] [--num_epochs N]\n",
      "                             [--lr_type LR_TYPE] [--lr LR]\n",
      "                             [--minimum_lr MIN_LR] [--momentum M] [-wd WD]\n",
      "                             [--optimizer_type OPTIMIZER] [--burn_in N]\n",
      "                             [--steps [STEPS ...]] [--world-size N] [--rank N]\n",
      "                             [--dist-url DIST_URL]\n",
      "                             [--dist-backend DIST_BACKEND] [--gpu_idx GPU_IDX]\n",
      "                             [--no_cuda] [--multiprocessing-distributed]\n",
      "                             [--evaluate] [--resume_path PATH]\n",
      "                             [--conf-thresh CONF_THRESH]\n",
      "                             [--nms-thresh NMS_THRESH]\n",
      "                             [--iou-thresh IOU_THRESH]\n",
      "ipykernel_launcher.py: error: unrecognized arguments: --f=c:\\Users\\adity\\AppData\\Roaming\\jupyter\\runtime\\kernel-v2-300642wwUPabiHfRG.json\n"
     ]
    },
    {
     "ename": "SystemExit",
     "evalue": "2",
     "output_type": "error",
     "traceback": [
      "An exception has occurred, use %tb to see the full traceback.\n",
      "\u001b[1;31mSystemExit\u001b[0m\u001b[1;31m:\u001b[0m 2\n"
     ]
    },
    {
     "name": "stderr",
     "output_type": "stream",
     "text": [
      "C:\\Users\\adity\\AppData\\Local\\Packages\\PythonSoftwareFoundation.Python.3.11_qbz5n2kfra8p0\\LocalCache\\local-packages\\Python311\\site-packages\\IPython\\core\\interactiveshell.py:3561: UserWarning: To exit: use 'exit', 'quit', or Ctrl-D.\n",
      "  warn(\"To exit: use 'exit', 'quit', or Ctrl-D.\", stacklevel=1)\n"
     ]
    }
   ],
   "source": [
    "configs = parse_train_configs()"
   ]
  },
  {
   "cell_type": "code",
   "execution_count": 6,
   "metadata": {},
   "outputs": [
    {
     "ename": "NameError",
     "evalue": "name 'configs' is not defined",
     "output_type": "error",
     "traceback": [
      "\u001b[1;31m---------------------------------------------------------------------------\u001b[0m",
      "\u001b[1;31mNameError\u001b[0m                                 Traceback (most recent call last)",
      "Cell \u001b[1;32mIn[6], line 1\u001b[0m\n\u001b[1;32m----> 1\u001b[0m model \u001b[38;5;241m=\u001b[39m Darknet(cfgfile\u001b[38;5;241m=\u001b[39m\u001b[43mconfigs\u001b[49m, use_giou_loss\u001b[38;5;241m=\u001b[39mconfigs\u001b[38;5;241m.\u001b[39muse_giou_loss)\n",
      "\u001b[1;31mNameError\u001b[0m: name 'configs' is not defined"
     ]
    }
   ],
   "source": [
    "model = Darknet(cfgfile=configs, use_giou_loss=configs.use_giou_loss)"
   ]
  },
  {
   "cell_type": "code",
   "execution_count": null,
   "metadata": {},
   "outputs": [],
   "source": []
  }
 ],
 "metadata": {
  "kernelspec": {
   "display_name": "Python 3",
   "language": "python",
   "name": "python3"
  },
  "language_info": {
   "codemirror_mode": {
    "name": "ipython",
    "version": 3
   },
   "file_extension": ".py",
   "mimetype": "text/x-python",
   "name": "python",
   "nbconvert_exporter": "python",
   "pygments_lexer": "ipython3",
   "version": "3.11.9"
  }
 },
 "nbformat": 4,
 "nbformat_minor": 2
}
